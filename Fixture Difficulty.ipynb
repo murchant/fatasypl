{
 "cells": [
  {
   "cell_type": "code",
   "execution_count": 151,
   "metadata": {},
   "outputs": [],
   "source": [
    "import requests\n",
    "import pandas as pd\n",
    "import numpy as np\n",
    "import pprint\n",
    "import matplotlib.pyplot as plt\n",
    "import itertools\n",
    "import functools\n",
    "import json\n",
    "from sklearn.cluster import KMeans\n",
    "pp = pprint.PrettyPrinter(indent=4)\n",
    "plt.rcParams['figure.figsize'] = [10, 6]\n"
   ]
  },
  {
   "cell_type": "markdown",
   "metadata": {},
   "source": [
    "## Pipeline\n",
    "Inputs: gameweek, gameweeks to roll\n",
    "1. Fetch fixtures for each team for the relevant gameweeks\n",
    "\n",
    "Output: map of lists containing tuples: (<home/away>, </opponent team id>) \n",
    "2. Map to difficulty of each fixtures\n",
    "\n",
    "Output: map of lists containing tuples: (</opponent team id>, </offensive difficulty>, </defensive difficulty>)\n",
    "3. Sum difficulties for both offensive and defensive difficulty over gws\n",
    "\n",
    "Output: map of tuples: (</sum of offensive difficulty>, </sum of defensive difficulty>)"
   ]
  },
  {
   "cell_type": "code",
   "execution_count": 454,
   "metadata": {},
   "outputs": [],
   "source": [
    "def fetch_fixtures_for_gws_considered(raw_gw_fixtures, starting_gw, gws_to_roll):\n",
    "    fixtures_per_team = dict()\n",
    "    for i in range(1, 21):\n",
    "        def filter_function(element):\n",
    "            if element[\"event\"] == None:\n",
    "                return False\n",
    "            return element[\"event\"] >= starting_gw and element[\"event\"] < starting_gw + gws_to_roll and (element[\"team_h\"] == i or element[\"team_a\"] == i) \n",
    "        fixtures_over_period_considered = list(filter(filter_function, raw_gw_fixtures))\n",
    "        def map_function(element):\n",
    "            home = True\n",
    "            if element[\"team_a\"] == i:\n",
    "                home = False\n",
    "            return (home, element[\"team_a\"] if home else element[\"team_h\"])\n",
    "        fixtures_over_period_considered = list(map(map_function, fixtures_over_period_considered))\n",
    "        fixtures_per_team[i] = fixtures_over_period_considered\n",
    "    return fixtures_per_team"
   ]
  },
  {
   "cell_type": "code",
   "execution_count": null,
   "metadata": {},
   "outputs": [],
   "source": []
  },
  {
   "cell_type": "code",
   "execution_count": 146,
   "metadata": {},
   "outputs": [],
   "source": [
    "def fetch_fpl_based_team_strength(club_metadata):\n",
    "    team_strength = dict()\n",
    "\n",
    "    for i, team_id in enumerate(club_metadata[\"id\"]):\n",
    "        team_strength[team_id] = dict()\n",
    "        team_strength[team_id][\"home\"] = {\n",
    "            \"attack\": club_metadata[\"strength_attack_home\"][i],\n",
    "            \"defense\": club_metadata[\"strength_defence_home\"][i]\n",
    "        }\n",
    "        team_strength[team_id][\"away\"] = {\n",
    "            \"attack\": club_metadata[\"strength_attack_away\"][i],\n",
    "            \"defense\": club_metadata[\"strength_defence_away\"][i]\n",
    "        }\n",
    "    return team_strength\n"
   ]
  },
  {
   "cell_type": "code",
   "execution_count": 115,
   "metadata": {},
   "outputs": [],
   "source": [
    "def fetch_xg_based_team_strength():\n",
    "    cleaned_team_strength = dict()\n",
    "    with open(\"xg_diff_team_strength\") as f:\n",
    "        team_strength = json.loads(f.read())\n",
    "    for k, v in team_strength.items():\n",
    "        cleaned_team_strength[int(k)] = v\n",
    "    return cleaned_team_strength"
   ]
  },
  {
   "cell_type": "code",
   "execution_count": 116,
   "metadata": {},
   "outputs": [],
   "source": [
    "def map_fixture_difficulty(gw_fixtures, team_strength):\n",
    "    gw_fixture_difficulty = dict()\n",
    "    for team_id in gw_fixtures.keys():\n",
    "        def mapping_function(element):\n",
    "            location = \"home\" if element[0] else \"away\"\n",
    "            opposition_team_id = element[1]\n",
    "            attack_strength = team_strength[opposition_team_id][location][\"attack\"]\n",
    "            defense_strength = team_strength[opposition_team_id][location][\"defense\"]\n",
    "            return (attack_strength, defense_strength)\n",
    "        gw_fixture_difficulty[team_id] = list(map(mapping_function, gw_fixtures[team_id]))\n",
    "    return gw_fixture_difficulty"
   ]
  },
  {
   "cell_type": "code",
   "execution_count": 117,
   "metadata": {},
   "outputs": [],
   "source": [
    "def aggregate_difficulty(gw_fixture_difficulty, gws_to_roll, max_fixture_difficulty):\n",
    "    agg_gw_fixture_difficulty = dict()\n",
    "    def attack_reduce_func(element_a, element_b):\n",
    "        return (element_a[0] + element_b[0], 0)\n",
    "    def defense_reduce_func(element_a, element_b):\n",
    "        return (0, element_a[1] + element_b[1])\n",
    "    for team_id, fixture_difficulty_list in gw_fixture_difficulty.items():\n",
    "        raw_fixture_length = len(fixture_difficulty_list)\n",
    "        # for gameweeks where a fixture isn't played assume the hardest difficulty \n",
    "        while len(fixture_difficulty_list) < gws_to_roll:\n",
    "            fixture_difficulty_list.append((max_fixture_difficulty, max_fixture_difficulty))\n",
    "        agg_attack_strength = functools.reduce(attack_reduce_func, fixture_difficulty_list)\n",
    "        agg_defense_strength = functools.reduce(defense_reduce_func, fixture_difficulty_list)\n",
    "        agg_gw_fixture_difficulty[team_id] = (agg_attack_strength[0], agg_defense_strength[1], raw_fixture_length)\n",
    "    return agg_gw_fixture_difficulty"
   ]
  },
  {
   "cell_type": "code",
   "execution_count": 118,
   "metadata": {},
   "outputs": [],
   "source": [
    "def prettify_results(aggregate_fixture_difficulty, club_metadata):\n",
    "    df = pd.DataFrame(columns=[\"team_name\", \"team_id\", \"num_fixtures\", \"opposition_aggregate_attack_strength\", \"opposition_aggregate_defense_strength\"])\n",
    "    for team_id, aggregate_fixture_difficulty in aggregate_fixture_difficulty.items():\n",
    "        item = {\n",
    "            \"team_name\": convert_id_to_team_name(team_id, club_metadata),\n",
    "            \"team_id\": team_id,\n",
    "            \"opposition_aggregate_attack_strength\": aggregate_fixture_difficulty[0],\n",
    "            \"opposition_aggregate_defense_strength\": aggregate_fixture_difficulty[1],\n",
    "            \"num_fixtures\": aggregate_fixture_difficulty[2]\n",
    "        }\n",
    "        df = df.append(item, ignore_index=True)\n",
    "    df = df.set_index(\"team_id\")\n",
    "    return df\n"
   ]
  },
  {
   "cell_type": "code",
   "execution_count": 119,
   "metadata": {},
   "outputs": [],
   "source": [
    "def convert_id_to_team_name(team_id, club_metadata):\n",
    "    return club_metadata[club_metadata.id == team_id].name.iloc[0]"
   ]
  },
  {
   "cell_type": "code",
   "execution_count": 120,
   "metadata": {},
   "outputs": [],
   "source": [
    "def inspect_fixtures_for_team(team_id, gw_fixtures, club_metadata):\n",
    "    print(\"Fixtures for {}:\".format(convert_id_to_team_name(team_id, club_metadata)))\n",
    "    fixtures = gw_fixtures[team_id]\n",
    "    for f in fixtures:\n",
    "        print(\"{} against {}\\n\".format(\"home\" if f[0] else \"away\", convert_id_to_team_name(f[1], club_metadata)))"
   ]
  },
  {
   "cell_type": "code",
   "execution_count": 121,
   "metadata": {},
   "outputs": [],
   "source": [
    "def max_from_team_strength(item):\n",
    "    elements = list(item[1][\"home\"].values()) + list(item[1][\"away\"].values())\n",
    "    return max(elements)\n"
   ]
  },
  {
   "cell_type": "code",
   "execution_count": 122,
   "metadata": {},
   "outputs": [],
   "source": [
    "def team_strength_to_df(team_strength, club_metadata):\n",
    "    team_strength_df = pd.DataFrame(columns=[\"team_name\", \"attack_home\", \"defense_home\", \"attack_away\", \"defense_away\"])\n",
    "    for team_id, element in team_strength.items():\n",
    "        item = {\n",
    "            \"team_name\": convert_id_to_team_name(team_id, club_metadata),\n",
    "            \"attack_home\": element[\"home\"][\"attack\"],\n",
    "            \"defense_home\": element[\"home\"][\"defense\"],\n",
    "            \"attack_away\": element[\"away\"][\"attack\"],\n",
    "            \"defense_away\": element[\"away\"][\"defense\"]\n",
    "        }\n",
    "        team_strength_df = team_strength_df.append(item, ignore_index=True)\n",
    "        \n",
    "    return team_strength_df"
   ]
  },
  {
   "cell_type": "code",
   "execution_count": 350,
   "metadata": {},
   "outputs": [],
   "source": [
    "def plot_results_as_bar_chart_with_clustering(results, column):\n",
    "    num_clusters = 4\n",
    "    colors = ['green', 'lightgreen', 'orange', 'red']\n",
    "    sorted_results = results.sort_values(c)\n",
    "    reshaped_results = np.reshape(sorted_results[c].values, (-1, 1))\n",
    "    k_means_results = KMeans(n_clusters=num_clusters).fit(reshaped_results)\n",
    "    centres = [np.round(item[0], 2) for item in k_means_results.cluster_centers_]\n",
    "    sorted_centres = np.sort(centres)\n",
    "    def where_does_x_appear_in_l(x, l):\n",
    "        for i, y in enumerate(l):\n",
    "            if x == y:\n",
    "                return i\n",
    "    centres_ranks = [where_does_x_appear_in_l(x, sorted_centres) for x in centres]\n",
    "    k_means_colors = list(map(lambda r: colors[centres_ranks[r]], k_means_results.labels_))\n",
    "    plt.bar(sorted_results.team_name, sorted_results[c], color=k_means_colors)\n",
    "    plt.xticks(rotation=90)\n",
    "    plt.show()"
   ]
  },
  {
   "cell_type": "code",
   "execution_count": null,
   "metadata": {},
   "outputs": [],
   "source": [
    "raw_gw_fixtures = requests.get('https://fantasy.premierleague.com/api/fixtures').json()\n",
    "club_metadata = pd.DataFrame(requests.get(\"https://fantasy.premierleague.com/api/bootstrap-static/\").json()[\"teams\"])"
   ]
  },
  {
   "cell_type": "code",
   "execution_count": 457,
   "metadata": {},
   "outputs": [],
   "source": [
    "starting_gw = 22\n",
    "gws_to_roll = 6\n"
   ]
  },
  {
   "cell_type": "code",
   "execution_count": 447,
   "metadata": {
    "scrolled": true
   },
   "outputs": [
    {
     "name": "stdout",
     "output_type": "stream",
     "text": [
      "Analysing gameweeks from gw 33 to 38 inclusive\n"
     ]
    }
   ],
   "source": [
    "print(\"Analysing gameweeks from gw {} to {} inclusive\".format(starting_gw, starting_gw + gws_to_roll - 1))"
   ]
  },
  {
   "cell_type": "code",
   "execution_count": 448,
   "metadata": {},
   "outputs": [],
   "source": [
    "gw_fixtures = fetch_fixtures_for_gws_considered(raw_gw_fixtures, starting_gw, gws_to_roll)\n",
    "# team_strength = fetch_fpl_based_team_strength(club_metadata)\n",
    "team_strength = fetch_xg_based_team_strength()\n",
    "max_team_strength = max(list(map(max_from_team_strength, list(team_strength.items()))))\n",
    "gw_fixture_difficulty = map_fixture_difficulty(gw_fixtures, team_strength)\n",
    "aggregate_fixture_difficulty = aggregate_difficulty(gw_fixture_difficulty, gws_to_roll, max_team_strength)\n",
    "results = prettify_results(aggregate_fixture_difficulty, club_metadata)\n"
   ]
  },
  {
   "cell_type": "code",
   "execution_count": 449,
   "metadata": {
    "scrolled": true
   },
   "outputs": [
    {
     "data": {
      "text/html": [
       "<div>\n",
       "<style scoped>\n",
       "    .dataframe tbody tr th:only-of-type {\n",
       "        vertical-align: middle;\n",
       "    }\n",
       "\n",
       "    .dataframe tbody tr th {\n",
       "        vertical-align: top;\n",
       "    }\n",
       "\n",
       "    .dataframe thead th {\n",
       "        text-align: right;\n",
       "    }\n",
       "</style>\n",
       "<table border=\"1\" class=\"dataframe\">\n",
       "  <thead>\n",
       "    <tr style=\"text-align: right;\">\n",
       "      <th></th>\n",
       "      <th>team_name</th>\n",
       "      <th>num_fixtures</th>\n",
       "      <th>opposition_aggregate_attack_strength</th>\n",
       "      <th>opposition_aggregate_defense_strength</th>\n",
       "    </tr>\n",
       "    <tr>\n",
       "      <th>team_id</th>\n",
       "      <th></th>\n",
       "      <th></th>\n",
       "      <th></th>\n",
       "      <th></th>\n",
       "    </tr>\n",
       "  </thead>\n",
       "  <tbody>\n",
       "    <tr>\n",
       "      <th>1</th>\n",
       "      <td>Arsenal</td>\n",
       "      <td>6</td>\n",
       "      <td>2.73</td>\n",
       "      <td>2.56</td>\n",
       "    </tr>\n",
       "    <tr>\n",
       "      <th>2</th>\n",
       "      <td>Aston Villa</td>\n",
       "      <td>6</td>\n",
       "      <td>3.37</td>\n",
       "      <td>2.95</td>\n",
       "    </tr>\n",
       "    <tr>\n",
       "      <th>3</th>\n",
       "      <td>Brentford</td>\n",
       "      <td>6</td>\n",
       "      <td>2.80</td>\n",
       "      <td>2.50</td>\n",
       "    </tr>\n",
       "    <tr>\n",
       "      <th>4</th>\n",
       "      <td>Brighton</td>\n",
       "      <td>6</td>\n",
       "      <td>3.04</td>\n",
       "      <td>2.81</td>\n",
       "    </tr>\n",
       "    <tr>\n",
       "      <th>5</th>\n",
       "      <td>Burnley</td>\n",
       "      <td>6</td>\n",
       "      <td>2.63</td>\n",
       "      <td>2.59</td>\n",
       "    </tr>\n",
       "    <tr>\n",
       "      <th>6</th>\n",
       "      <td>Chelsea</td>\n",
       "      <td>6</td>\n",
       "      <td>3.10</td>\n",
       "      <td>2.74</td>\n",
       "    </tr>\n",
       "    <tr>\n",
       "      <th>7</th>\n",
       "      <td>Crystal Palace</td>\n",
       "      <td>6</td>\n",
       "      <td>2.71</td>\n",
       "      <td>2.57</td>\n",
       "    </tr>\n",
       "    <tr>\n",
       "      <th>8</th>\n",
       "      <td>Everton</td>\n",
       "      <td>6</td>\n",
       "      <td>3.40</td>\n",
       "      <td>3.29</td>\n",
       "    </tr>\n",
       "    <tr>\n",
       "      <th>9</th>\n",
       "      <td>Leicester</td>\n",
       "      <td>6</td>\n",
       "      <td>2.65</td>\n",
       "      <td>2.32</td>\n",
       "    </tr>\n",
       "    <tr>\n",
       "      <th>10</th>\n",
       "      <td>Leeds</td>\n",
       "      <td>6</td>\n",
       "      <td>3.44</td>\n",
       "      <td>3.82</td>\n",
       "    </tr>\n",
       "    <tr>\n",
       "      <th>11</th>\n",
       "      <td>Liverpool</td>\n",
       "      <td>6</td>\n",
       "      <td>2.49</td>\n",
       "      <td>2.93</td>\n",
       "    </tr>\n",
       "    <tr>\n",
       "      <th>12</th>\n",
       "      <td>Man City</td>\n",
       "      <td>6</td>\n",
       "      <td>2.67</td>\n",
       "      <td>2.69</td>\n",
       "    </tr>\n",
       "    <tr>\n",
       "      <th>13</th>\n",
       "      <td>Man Utd</td>\n",
       "      <td>6</td>\n",
       "      <td>3.09</td>\n",
       "      <td>3.25</td>\n",
       "    </tr>\n",
       "    <tr>\n",
       "      <th>14</th>\n",
       "      <td>Newcastle</td>\n",
       "      <td>6</td>\n",
       "      <td>3.55</td>\n",
       "      <td>3.14</td>\n",
       "    </tr>\n",
       "    <tr>\n",
       "      <th>15</th>\n",
       "      <td>Norwich</td>\n",
       "      <td>6</td>\n",
       "      <td>2.57</td>\n",
       "      <td>3.02</td>\n",
       "    </tr>\n",
       "    <tr>\n",
       "      <th>16</th>\n",
       "      <td>Southampton</td>\n",
       "      <td>6</td>\n",
       "      <td>3.24</td>\n",
       "      <td>2.91</td>\n",
       "    </tr>\n",
       "    <tr>\n",
       "      <th>17</th>\n",
       "      <td>Spurs</td>\n",
       "      <td>6</td>\n",
       "      <td>2.93</td>\n",
       "      <td>2.97</td>\n",
       "    </tr>\n",
       "    <tr>\n",
       "      <th>18</th>\n",
       "      <td>Watford</td>\n",
       "      <td>6</td>\n",
       "      <td>3.39</td>\n",
       "      <td>3.28</td>\n",
       "    </tr>\n",
       "    <tr>\n",
       "      <th>19</th>\n",
       "      <td>West Ham</td>\n",
       "      <td>6</td>\n",
       "      <td>3.07</td>\n",
       "      <td>3.09</td>\n",
       "    </tr>\n",
       "    <tr>\n",
       "      <th>20</th>\n",
       "      <td>Wolves</td>\n",
       "      <td>6</td>\n",
       "      <td>3.43</td>\n",
       "      <td>3.46</td>\n",
       "    </tr>\n",
       "  </tbody>\n",
       "</table>\n",
       "</div>"
      ],
      "text/plain": [
       "              team_name num_fixtures  opposition_aggregate_attack_strength  \\\n",
       "team_id                                                                      \n",
       "1               Arsenal            6                                  2.73   \n",
       "2           Aston Villa            6                                  3.37   \n",
       "3             Brentford            6                                  2.80   \n",
       "4              Brighton            6                                  3.04   \n",
       "5               Burnley            6                                  2.63   \n",
       "6               Chelsea            6                                  3.10   \n",
       "7        Crystal Palace            6                                  2.71   \n",
       "8               Everton            6                                  3.40   \n",
       "9             Leicester            6                                  2.65   \n",
       "10                Leeds            6                                  3.44   \n",
       "11            Liverpool            6                                  2.49   \n",
       "12             Man City            6                                  2.67   \n",
       "13              Man Utd            6                                  3.09   \n",
       "14            Newcastle            6                                  3.55   \n",
       "15              Norwich            6                                  2.57   \n",
       "16          Southampton            6                                  3.24   \n",
       "17                Spurs            6                                  2.93   \n",
       "18              Watford            6                                  3.39   \n",
       "19             West Ham            6                                  3.07   \n",
       "20               Wolves            6                                  3.43   \n",
       "\n",
       "         opposition_aggregate_defense_strength  \n",
       "team_id                                         \n",
       "1                                         2.56  \n",
       "2                                         2.95  \n",
       "3                                         2.50  \n",
       "4                                         2.81  \n",
       "5                                         2.59  \n",
       "6                                         2.74  \n",
       "7                                         2.57  \n",
       "8                                         3.29  \n",
       "9                                         2.32  \n",
       "10                                        3.82  \n",
       "11                                        2.93  \n",
       "12                                        2.69  \n",
       "13                                        3.25  \n",
       "14                                        3.14  \n",
       "15                                        3.02  \n",
       "16                                        2.91  \n",
       "17                                        2.97  \n",
       "18                                        3.28  \n",
       "19                                        3.09  \n",
       "20                                        3.46  "
      ]
     },
     "execution_count": 449,
     "metadata": {},
     "output_type": "execute_result"
    }
   ],
   "source": [
    "results"
   ]
  },
  {
   "cell_type": "markdown",
   "metadata": {},
   "source": [
    "Opposition defense strength - used for picking mids and fws"
   ]
  },
  {
   "cell_type": "code",
   "execution_count": 450,
   "metadata": {},
   "outputs": [],
   "source": [
    "\n",
    "# green yellow blue yellow orange"
   ]
  },
  {
   "cell_type": "code",
   "execution_count": 451,
   "metadata": {
    "scrolled": false
   },
   "outputs": [
    {
     "data": {
      "image/png": "[encoded data removed]",
      "text/plain": [
       "<Figure size 1000x600 with 1 Axes>"
      ]
     },
     "metadata": {},
     "output_type": "display_data"
    }
   ],
   "source": [
    "plot_results_as_bar_chart_with_clustering(results, \"opposition_aggregate_defense_strength\")\n"
   ]
  },
  {
   "cell_type": "markdown",
   "metadata": {},
   "source": [
    "Opposition attack strength - used for picking dfs and gks"
   ]
  },
  {
   "cell_type": "code",
   "execution_count": 452,
   "metadata": {
    "scrolled": false
   },
   "outputs": [
    {
     "data": {
      "image/png": "[encoded data removed]",
      "text/plain": [
       "<Figure size 1000x600 with 1 Axes>"
      ]
     },
     "metadata": {},
     "output_type": "display_data"
    }
   ],
   "source": [
    "plot_results_as_bar_chart_with_clustering(results, \"opposition_aggregate_attack_strength\")\n"
   ]
  },
  {
   "cell_type": "markdown",
   "metadata": {},
   "source": [
    "Data deeper dive"
   ]
  },
  {
   "cell_type": "code",
   "execution_count": 453,
   "metadata": {
    "scrolled": true
   },
   "outputs": [
    {
     "name": "stdout",
     "output_type": "stream",
     "text": [
      "Fixtures for Arsenal:\n",
      "away against Southampton\n",
      "\n",
      "home against Man Utd\n",
      "\n",
      "away against West Ham\n",
      "\n",
      "home against Leeds\n",
      "\n",
      "away against Newcastle\n",
      "\n",
      "home against Everton\n",
      "\n"
     ]
    }
   ],
   "source": [
    "inspect_fixtures_for_team(1, gw_fixtures, club_metadata)"
   ]
  },
  {
   "cell_type": "code",
   "execution_count": 202,
   "metadata": {},
   "outputs": [
    {
     "data": {
      "text/html": [
       "<div>\n",
       "<style scoped>\n",
       "    .dataframe tbody tr th:only-of-type {\n",
       "        vertical-align: middle;\n",
       "    }\n",
       "\n",
       "    .dataframe tbody tr th {\n",
       "        vertical-align: top;\n",
       "    }\n",
       "\n",
       "    .dataframe thead th {\n",
       "        text-align: right;\n",
       "    }\n",
       "</style>\n",
       "<table border=\"1\" class=\"dataframe\">\n",
       "  <thead>\n",
       "    <tr style=\"text-align: right;\">\n",
       "      <th></th>\n",
       "      <th>team_name</th>\n",
       "      <th>attack_home</th>\n",
       "      <th>defense_home</th>\n",
       "      <th>attack_away</th>\n",
       "      <th>defense_away</th>\n",
       "    </tr>\n",
       "  </thead>\n",
       "  <tbody>\n",
       "    <tr>\n",
       "      <th>17</th>\n",
       "      <td>Watford</td>\n",
       "      <td>0.47</td>\n",
       "      <td>0.34</td>\n",
       "      <td>0.36</td>\n",
       "      <td>0.20</td>\n",
       "    </tr>\n",
       "    <tr>\n",
       "      <th>13</th>\n",
       "      <td>Newcastle</td>\n",
       "      <td>0.25</td>\n",
       "      <td>0.33</td>\n",
       "      <td>0.40</td>\n",
       "      <td>0.33</td>\n",
       "    </tr>\n",
       "    <tr>\n",
       "      <th>9</th>\n",
       "      <td>Leicester</td>\n",
       "      <td>0.57</td>\n",
       "      <td>0.34</td>\n",
       "      <td>0.58</td>\n",
       "      <td>0.37</td>\n",
       "    </tr>\n",
       "    <tr>\n",
       "      <th>14</th>\n",
       "      <td>Norwich</td>\n",
       "      <td>0.31</td>\n",
       "      <td>0.23</td>\n",
       "      <td>0.35</td>\n",
       "      <td>0.44</td>\n",
       "    </tr>\n",
       "    <tr>\n",
       "      <th>8</th>\n",
       "      <td>Leeds</td>\n",
       "      <td>0.37</td>\n",
       "      <td>0.28</td>\n",
       "      <td>0.59</td>\n",
       "      <td>0.45</td>\n",
       "    </tr>\n",
       "    <tr>\n",
       "      <th>7</th>\n",
       "      <td>Everton</td>\n",
       "      <td>0.41</td>\n",
       "      <td>0.40</td>\n",
       "      <td>0.55</td>\n",
       "      <td>0.48</td>\n",
       "    </tr>\n",
       "    <tr>\n",
       "      <th>1</th>\n",
       "      <td>Aston Villa</td>\n",
       "      <td>0.40</td>\n",
       "      <td>0.45</td>\n",
       "      <td>0.37</td>\n",
       "      <td>0.49</td>\n",
       "    </tr>\n",
       "    <tr>\n",
       "      <th>12</th>\n",
       "      <td>Man Utd</td>\n",
       "      <td>0.50</td>\n",
       "      <td>0.39</td>\n",
       "      <td>0.60</td>\n",
       "      <td>0.52</td>\n",
       "    </tr>\n",
       "    <tr>\n",
       "      <th>19</th>\n",
       "      <td>Wolves</td>\n",
       "      <td>0.38</td>\n",
       "      <td>0.47</td>\n",
       "      <td>0.36</td>\n",
       "      <td>0.55</td>\n",
       "    </tr>\n",
       "    <tr>\n",
       "      <th>3</th>\n",
       "      <td>Brighton</td>\n",
       "      <td>0.35</td>\n",
       "      <td>0.56</td>\n",
       "      <td>0.53</td>\n",
       "      <td>0.56</td>\n",
       "    </tr>\n",
       "    <tr>\n",
       "      <th>18</th>\n",
       "      <td>West Ham</td>\n",
       "      <td>0.51</td>\n",
       "      <td>0.48</td>\n",
       "      <td>0.60</td>\n",
       "      <td>0.57</td>\n",
       "    </tr>\n",
       "    <tr>\n",
       "      <th>16</th>\n",
       "      <td>Spurs</td>\n",
       "      <td>0.48</td>\n",
       "      <td>0.65</td>\n",
       "      <td>0.64</td>\n",
       "      <td>0.57</td>\n",
       "    </tr>\n",
       "    <tr>\n",
       "      <th>4</th>\n",
       "      <td>Burnley</td>\n",
       "      <td>0.30</td>\n",
       "      <td>0.31</td>\n",
       "      <td>0.49</td>\n",
       "      <td>0.58</td>\n",
       "    </tr>\n",
       "    <tr>\n",
       "      <th>15</th>\n",
       "      <td>Southampton</td>\n",
       "      <td>0.44</td>\n",
       "      <td>0.37</td>\n",
       "      <td>0.45</td>\n",
       "      <td>0.59</td>\n",
       "    </tr>\n",
       "    <tr>\n",
       "      <th>2</th>\n",
       "      <td>Brentford</td>\n",
       "      <td>0.39</td>\n",
       "      <td>0.51</td>\n",
       "      <td>0.50</td>\n",
       "      <td>0.59</td>\n",
       "    </tr>\n",
       "    <tr>\n",
       "      <th>0</th>\n",
       "      <td>Arsenal</td>\n",
       "      <td>0.47</td>\n",
       "      <td>0.42</td>\n",
       "      <td>0.63</td>\n",
       "      <td>0.62</td>\n",
       "    </tr>\n",
       "    <tr>\n",
       "      <th>5</th>\n",
       "      <td>Chelsea</td>\n",
       "      <td>0.62</td>\n",
       "      <td>0.65</td>\n",
       "      <td>0.69</td>\n",
       "      <td>0.64</td>\n",
       "    </tr>\n",
       "    <tr>\n",
       "      <th>6</th>\n",
       "      <td>Crystal Palace</td>\n",
       "      <td>0.32</td>\n",
       "      <td>0.41</td>\n",
       "      <td>0.61</td>\n",
       "      <td>0.68</td>\n",
       "    </tr>\n",
       "    <tr>\n",
       "      <th>10</th>\n",
       "      <td>Liverpool</td>\n",
       "      <td>0.84</td>\n",
       "      <td>0.56</td>\n",
       "      <td>0.86</td>\n",
       "      <td>0.73</td>\n",
       "    </tr>\n",
       "    <tr>\n",
       "      <th>11</th>\n",
       "      <td>Man City</td>\n",
       "      <td>0.73</td>\n",
       "      <td>0.72</td>\n",
       "      <td>0.83</td>\n",
       "      <td>0.80</td>\n",
       "    </tr>\n",
       "  </tbody>\n",
       "</table>\n",
       "</div>"
      ],
      "text/plain": [
       "         team_name  attack_home  defense_home  attack_away  defense_away\n",
       "17         Watford         0.47          0.34         0.36          0.20\n",
       "13       Newcastle         0.25          0.33         0.40          0.33\n",
       "9        Leicester         0.57          0.34         0.58          0.37\n",
       "14         Norwich         0.31          0.23         0.35          0.44\n",
       "8            Leeds         0.37          0.28         0.59          0.45\n",
       "7          Everton         0.41          0.40         0.55          0.48\n",
       "1      Aston Villa         0.40          0.45         0.37          0.49\n",
       "12         Man Utd         0.50          0.39         0.60          0.52\n",
       "19          Wolves         0.38          0.47         0.36          0.55\n",
       "3         Brighton         0.35          0.56         0.53          0.56\n",
       "18        West Ham         0.51          0.48         0.60          0.57\n",
       "16           Spurs         0.48          0.65         0.64          0.57\n",
       "4          Burnley         0.30          0.31         0.49          0.58\n",
       "15     Southampton         0.44          0.37         0.45          0.59\n",
       "2        Brentford         0.39          0.51         0.50          0.59\n",
       "0          Arsenal         0.47          0.42         0.63          0.62\n",
       "5          Chelsea         0.62          0.65         0.69          0.64\n",
       "6   Crystal Palace         0.32          0.41         0.61          0.68\n",
       "10       Liverpool         0.84          0.56         0.86          0.73\n",
       "11        Man City         0.73          0.72         0.83          0.80"
      ]
     },
     "execution_count": 202,
     "metadata": {},
     "output_type": "execute_result"
    }
   ],
   "source": [
    "team_strength_to_df(fetch_xg_based_team_strength(), club_metadata).sort_values(\"defense_away\")"
   ]
  },
  {
   "cell_type": "markdown",
   "metadata": {},
   "source": [
    "## Plot rolling difficulty for a given side"
   ]
  },
  {
   "cell_type": "code",
   "execution_count": 495,
   "metadata": {},
   "outputs": [],
   "source": [
    "gw_fixtures = fetch_fixtures_for_gws_considered(raw_gw_fixtures, starting_gw, 38)\n",
    "# team_strength = fetch_fpl_based_team_strength(club_metadata)\n",
    "team_strength = fetch_xg_based_team_strength()\n",
    "max_team_strength = max(list(map(max_from_team_strength, list(team_strength.items()))))\n",
    "gw_fixture_difficulty = map_fixture_difficulty(gw_fixtures, team_strength)\n",
    "\n"
   ]
  },
  {
   "cell_type": "code",
   "execution_count": 499,
   "metadata": {},
   "outputs": [
    {
     "data": {
      "image/png": "[encoded data removed]",
      "text/plain": [
       "<Figure size 1000x600 with 1 Axes>"
      ]
     },
     "metadata": {},
     "output_type": "display_data"
    }
   ],
   "source": [
    "team_id_considered = 11\n",
    "gw_fixture_difficulty_considered = gw_fixture_difficulty[team_id_considered]\n",
    "opposition_attack_strength = pd.Series(map(lambda item: item[0], gw_fixture_difficulty_considered)).rolling(gws_to_roll).mean().dropna()\n",
    "opposition_defense_strength = pd.Series(map(lambda item: item[1], gw_fixture_difficulty_considered)).rolling(gws_to_roll).mean().dropna()\n",
    "x = [i for i in range(starting_gw, starting_gw + len(opposition_attack_strength))]\n",
    "plt.plot(x, opposition_attack_strength, label=\"opposition_attack_strength\")\n",
    "plt.plot(x, opposition_defense_strength, label=\"opposition_defense_strength\")\n",
    "plt.title(\"{} fixture difficulty\".format(convert_id_to_team_name(team_id_considered, club_metadata)))\n",
    "plt.legend()\n",
    "plt.show()\n"
   ]
  },
  {
   "cell_type": "code",
   "execution_count": null,
   "metadata": {},
   "outputs": [],
   "source": []
  },
  {
   "cell_type": "code",
   "execution_count": null,
   "metadata": {},
   "outputs": [],
   "source": []
  }
 ],
 "metadata": {
  "kernelspec": {
   "display_name": "Python 3",
   "language": "python",
   "name": "python3"
  },
  "language_info": {
   "codemirror_mode": {
    "name": "ipython",
    "version": 3
   },
   "file_extension": ".py",
   "mimetype": "text/x-python",
   "name": "python",
   "nbconvert_exporter": "python",
   "pygments_lexer": "ipython3",
   "version": "3.7.7"
  }
 },
 "nbformat": 4,
 "nbformat_minor": 4
}
