{
 "cells": [
  {
   "cell_type": "code",
   "execution_count": 1,
   "metadata": {},
   "outputs": [],
   "source": [
    "import requests\n",
    "import pandas as pd\n",
    "import numpy as np\n",
    "import pprint\n",
    "import matplotlib.pyplot as plt\n",
    "import itertools\n",
    "import functools\n",
    "import json\n",
    "from sklearn.cluster import KMeans\n",
    "pp = pprint.PrettyPrinter(indent=4)\n",
    "plt.rcParams['figure.figsize'] = [10, 6]\n"
   ]
  },
  {
   "cell_type": "markdown",
   "metadata": {},
   "source": [
    "## Pipeline\n",
    "Inputs: gameweek, gameweeks to roll\n",
    "1. Fetch fixtures for each team for the relevant gameweeks\n",
    "\n",
    "Output: map of lists containing tuples: (<home/away>, </opponent team id>) \n",
    "2. Map to difficulty of each fixtures\n",
    "\n",
    "Output: map of lists containing tuples: (</opponent team id>, </offensive difficulty>, </defensive difficulty>)\n",
    "3. Sum difficulties for both offensive and defensive difficulty over gws\n",
    "\n",
    "Output: map of tuples: (</sum of offensive difficulty>, </sum of defensive difficulty>)"
   ]
  },
  {
   "cell_type": "code",
   "execution_count": 2,
   "metadata": {},
   "outputs": [],
   "source": [
    "def fetch_fixtures_for_gws_considered(raw_gw_fixtures, starting_gw, gws_to_roll):\n",
    "    fixtures_per_team = dict()\n",
    "    for i in range(1, 21):\n",
    "        def filter_function(element):\n",
    "            if element[\"event\"] == None:\n",
    "                return False\n",
    "            return element[\"event\"] >= starting_gw and element[\"event\"] < starting_gw + gws_to_roll and (element[\"team_h\"] == i or element[\"team_a\"] == i) \n",
    "        fixtures_over_period_considered = list(filter(filter_function, raw_gw_fixtures))\n",
    "        def map_function(element):\n",
    "            home = True\n",
    "            if element[\"team_a\"] == i:\n",
    "                home = False\n",
    "            return (home, element[\"team_a\"] if home else element[\"team_h\"])\n",
    "        fixtures_over_period_considered = list(map(map_function, fixtures_over_period_considered))\n",
    "        fixtures_per_team[i] = fixtures_over_period_considered\n",
    "    return fixtures_per_team"
   ]
  },
  {
   "cell_type": "code",
   "execution_count": null,
   "metadata": {},
   "outputs": [],
   "source": []
  },
  {
   "cell_type": "code",
   "execution_count": 3,
   "metadata": {},
   "outputs": [],
   "source": [
    "def fetch_fpl_based_team_strength(club_metadata):\n",
    "    team_strength = dict()\n",
    "\n",
    "    for i, team_id in enumerate(club_metadata[\"id\"]):\n",
    "        team_strength[team_id] = dict()\n",
    "        team_strength[team_id][\"home\"] = {\n",
    "            \"attack\": club_metadata[\"strength_attack_home\"][i],\n",
    "            \"defense\": club_metadata[\"strength_defence_home\"][i]\n",
    "        }\n",
    "        team_strength[team_id][\"away\"] = {\n",
    "            \"attack\": club_metadata[\"strength_attack_away\"][i],\n",
    "            \"defense\": club_metadata[\"strength_defence_away\"][i]\n",
    "        }\n",
    "    return team_strength\n"
   ]
  },
  {
   "cell_type": "code",
   "execution_count": 4,
   "metadata": {},
   "outputs": [],
   "source": [
    "def fetch_xg_based_team_strength():\n",
    "    cleaned_team_strength = dict()\n",
    "    with open(\"xg_diff_team_strength\") as f:\n",
    "        team_strength = json.loads(f.read())\n",
    "    for k, v in team_strength.items():\n",
    "        cleaned_team_strength[int(k)] = v\n",
    "    return cleaned_team_strength"
   ]
  },
  {
   "cell_type": "code",
   "execution_count": 5,
   "metadata": {},
   "outputs": [],
   "source": [
    "def map_fixture_difficulty(gw_fixtures, team_strength):\n",
    "    gw_fixture_difficulty = dict()\n",
    "    for team_id in gw_fixtures.keys():\n",
    "        def mapping_function(element):\n",
    "            location = \"home\" if element[0] else \"away\"\n",
    "            opposition_team_id = element[1]\n",
    "            attack_strength = team_strength[opposition_team_id][location][\"attack\"]\n",
    "            defense_strength = team_strength[opposition_team_id][location][\"defense\"]\n",
    "            return (attack_strength, defense_strength)\n",
    "        gw_fixture_difficulty[team_id] = list(map(mapping_function, gw_fixtures[team_id]))\n",
    "    return gw_fixture_difficulty"
   ]
  },
  {
   "cell_type": "code",
   "execution_count": 6,
   "metadata": {},
   "outputs": [],
   "source": [
    "def aggregate_difficulty(gw_fixture_difficulty, gws_to_roll, max_fixture_difficulty):\n",
    "    agg_gw_fixture_difficulty = dict()\n",
    "    def attack_reduce_func(element_a, element_b):\n",
    "        return (element_a[0] + element_b[0], 0)\n",
    "    def defense_reduce_func(element_a, element_b):\n",
    "        return (0, element_a[1] + element_b[1])\n",
    "    for team_id, fixture_difficulty_list in gw_fixture_difficulty.items():\n",
    "        raw_fixture_length = len(fixture_difficulty_list)\n",
    "        # for gameweeks where a fixture isn't played assume the hardest difficulty \n",
    "        while len(fixture_difficulty_list) < gws_to_roll:\n",
    "            fixture_difficulty_list.append((max_fixture_difficulty, max_fixture_difficulty))\n",
    "        agg_attack_strength = functools.reduce(attack_reduce_func, fixture_difficulty_list)\n",
    "        agg_defense_strength = functools.reduce(defense_reduce_func, fixture_difficulty_list)\n",
    "        agg_gw_fixture_difficulty[team_id] = (agg_attack_strength[0], agg_defense_strength[1], raw_fixture_length)\n",
    "    return agg_gw_fixture_difficulty"
   ]
  },
  {
   "cell_type": "code",
   "execution_count": 7,
   "metadata": {},
   "outputs": [],
   "source": [
    "def prettify_results(aggregate_fixture_difficulty, club_metadata):\n",
    "    df = pd.DataFrame(columns=[\"team_name\", \"team_id\", \"num_fixtures\", \"opposition_aggregate_attack_strength\", \"opposition_aggregate_defense_strength\"])\n",
    "    for team_id, aggregate_fixture_difficulty in aggregate_fixture_difficulty.items():\n",
    "        item = {\n",
    "            \"team_name\": convert_id_to_team_name(team_id, club_metadata),\n",
    "            \"team_id\": team_id,\n",
    "            \"opposition_aggregate_attack_strength\": aggregate_fixture_difficulty[0],\n",
    "            \"opposition_aggregate_defense_strength\": aggregate_fixture_difficulty[1],\n",
    "            \"num_fixtures\": aggregate_fixture_difficulty[2]\n",
    "        }\n",
    "        df = df.append(item, ignore_index=True)\n",
    "    df = df.set_index(\"team_id\")\n",
    "    return df\n"
   ]
  },
  {
   "cell_type": "code",
   "execution_count": 8,
   "metadata": {},
   "outputs": [],
   "source": [
    "def convert_id_to_team_name(team_id, club_metadata):\n",
    "    return club_metadata[club_metadata.id == team_id].name.iloc[0]"
   ]
  },
  {
   "cell_type": "code",
   "execution_count": 9,
   "metadata": {},
   "outputs": [],
   "source": [
    "def inspect_fixtures_for_team(team_id, gw_fixtures, club_metadata):\n",
    "    print(\"Fixtures for {}:\".format(convert_id_to_team_name(team_id, club_metadata)))\n",
    "    fixtures = gw_fixtures[team_id]\n",
    "    for f in fixtures:\n",
    "        print(\"{} against {}\\n\".format(\"home\" if f[0] else \"away\", convert_id_to_team_name(f[1], club_metadata)))"
   ]
  },
  {
   "cell_type": "code",
   "execution_count": 10,
   "metadata": {},
   "outputs": [],
   "source": [
    "def min_from_team_opportunity(item):\n",
    "    elements = list(item[1][\"home\"].values()) + list(item[1][\"away\"].values())\n",
    "    return min(elements)\n"
   ]
  },
  {
   "cell_type": "code",
   "execution_count": 11,
   "metadata": {},
   "outputs": [],
   "source": [
    "def team_strength_to_df(team_strength, club_metadata):\n",
    "    team_strength_df = pd.DataFrame(columns=[\"team_name\", \"attack_home\", \"defense_home\", \"attack_away\", \"defense_away\"])\n",
    "    for team_id, element in team_strength.items():\n",
    "        item = {\n",
    "            \"team_name\": convert_id_to_team_name(team_id, club_metadata),\n",
    "            \"attack_home\": element[\"home\"][\"attack\"],\n",
    "            \"defense_home\": element[\"home\"][\"defense\"],\n",
    "            \"attack_away\": element[\"away\"][\"attack\"],\n",
    "            \"defense_away\": element[\"away\"][\"defense\"]\n",
    "        }\n",
    "        team_strength_df = team_strength_df.append(item, ignore_index=True)\n",
    "        \n",
    "    return team_strength_df"
   ]
  },
  {
   "cell_type": "code",
   "execution_count": 33,
   "metadata": {},
   "outputs": [],
   "source": [
    "def plot_results_as_bar_chart_with_clustering(results, column):\n",
    "    num_clusters = 4\n",
    "    colors = ['red', 'orange', 'lightgreen', 'green']\n",
    "    sorted_results = results.sort_values(column)\n",
    "    reshaped_results = np.reshape(sorted_results[column].values, (-1, 1))\n",
    "    k_means_results = KMeans(n_clusters=num_clusters).fit(reshaped_results)\n",
    "    centres = [np.round(item[0], 2) for item in k_means_results.cluster_centers_]\n",
    "    sorted_centres = np.sort(centres)\n",
    "    def where_does_x_appear_in_l(x, l):\n",
    "        for i, y in enumerate(l):\n",
    "            if x == y:\n",
    "                return i\n",
    "    centres_ranks = [where_does_x_appear_in_l(x, sorted_centres) for x in centres]\n",
    "    k_means_colors = list(map(lambda r: colors[centres_ranks[r]], k_means_results.labels_))\n",
    "    plt.bar(sorted_results.team_name, sorted_results[column], color=k_means_colors)\n",
    "    plt.xticks(rotation=90)\n",
    "    plt.show()"
   ]
  },
  {
   "cell_type": "code",
   "execution_count": 34,
   "metadata": {},
   "outputs": [],
   "source": [
    "raw_gw_fixtures = requests.get('https://fantasy.premierleague.com/api/fixtures').json()\n",
    "club_metadata = pd.DataFrame(requests.get(\"https://fantasy.premierleague.com/api/bootstrap-static/\").json()[\"teams\"])"
   ]
  },
  {
   "cell_type": "code",
   "execution_count": 53,
   "metadata": {},
   "outputs": [],
   "source": [
    "starting_gw = 22\n",
    "gws_to_roll = 6\n"
   ]
  },
  {
   "cell_type": "code",
   "execution_count": 54,
   "metadata": {
    "scrolled": true
   },
   "outputs": [
    {
     "name": "stdout",
     "output_type": "stream",
     "text": [
      "Analysing gameweeks from gw 22 to 27 inclusive\n"
     ]
    }
   ],
   "source": [
    "print(\"Analysing gameweeks from gw {} to {} inclusive\".format(starting_gw, starting_gw + gws_to_roll - 1))"
   ]
  },
  {
   "cell_type": "code",
   "execution_count": 55,
   "metadata": {},
   "outputs": [],
   "source": [
    "gw_fixtures = fetch_fixtures_for_gws_considered(raw_gw_fixtures, starting_gw, gws_to_roll)\n",
    "# team_strength = fetch_fpl_based_team_strength(club_metadata)\n",
    "team_strength = fetch_xg_based_team_strength()\n",
    "min_team_opportunity = min(list(map(min_from_team_opportunity, list(team_strength.items()))))\n",
    "gw_fixture_difficulty = map_fixture_difficulty(gw_fixtures, team_strength)\n",
    "aggregate_fixture_difficulty = aggregate_difficulty(gw_fixture_difficulty, gws_to_roll, min_team_opportunity)\n",
    "results = prettify_results(aggregate_fixture_difficulty, club_metadata)\n"
   ]
  },
  {
   "cell_type": "code",
   "execution_count": 56,
   "metadata": {
    "scrolled": true
   },
   "outputs": [
    {
     "data": {
      "text/html": [
       "<div>\n",
       "<style scoped>\n",
       "    .dataframe tbody tr th:only-of-type {\n",
       "        vertical-align: middle;\n",
       "    }\n",
       "\n",
       "    .dataframe tbody tr th {\n",
       "        vertical-align: top;\n",
       "    }\n",
       "\n",
       "    .dataframe thead th {\n",
       "        text-align: right;\n",
       "    }\n",
       "</style>\n",
       "<table border=\"1\" class=\"dataframe\">\n",
       "  <thead>\n",
       "    <tr style=\"text-align: right;\">\n",
       "      <th></th>\n",
       "      <th>team_name</th>\n",
       "      <th>num_fixtures</th>\n",
       "      <th>opposition_aggregate_attack_strength</th>\n",
       "      <th>opposition_aggregate_defense_strength</th>\n",
       "    </tr>\n",
       "    <tr>\n",
       "      <th>team_id</th>\n",
       "      <th></th>\n",
       "      <th></th>\n",
       "      <th></th>\n",
       "      <th></th>\n",
       "    </tr>\n",
       "  </thead>\n",
       "  <tbody>\n",
       "    <tr>\n",
       "      <th>1</th>\n",
       "      <td>Arsenal</td>\n",
       "      <td>4</td>\n",
       "      <td>2.60</td>\n",
       "      <td>2.35</td>\n",
       "    </tr>\n",
       "    <tr>\n",
       "      <th>2</th>\n",
       "      <td>Aston Villa</td>\n",
       "      <td>6</td>\n",
       "      <td>3.18</td>\n",
       "      <td>3.62</td>\n",
       "    </tr>\n",
       "    <tr>\n",
       "      <th>3</th>\n",
       "      <td>Brentford</td>\n",
       "      <td>7</td>\n",
       "      <td>3.25</td>\n",
       "      <td>3.22</td>\n",
       "    </tr>\n",
       "    <tr>\n",
       "      <th>4</th>\n",
       "      <td>Brighton</td>\n",
       "      <td>6</td>\n",
       "      <td>3.42</td>\n",
       "      <td>3.61</td>\n",
       "    </tr>\n",
       "    <tr>\n",
       "      <th>5</th>\n",
       "      <td>Burnley</td>\n",
       "      <td>6</td>\n",
       "      <td>2.42</td>\n",
       "      <td>2.85</td>\n",
       "    </tr>\n",
       "    <tr>\n",
       "      <th>6</th>\n",
       "      <td>Chelsea</td>\n",
       "      <td>4</td>\n",
       "      <td>1.83</td>\n",
       "      <td>1.59</td>\n",
       "    </tr>\n",
       "    <tr>\n",
       "      <th>7</th>\n",
       "      <td>Crystal Palace</td>\n",
       "      <td>6</td>\n",
       "      <td>2.86</td>\n",
       "      <td>2.89</td>\n",
       "    </tr>\n",
       "    <tr>\n",
       "      <th>8</th>\n",
       "      <td>Everton</td>\n",
       "      <td>6</td>\n",
       "      <td>3.28</td>\n",
       "      <td>3.18</td>\n",
       "    </tr>\n",
       "    <tr>\n",
       "      <th>9</th>\n",
       "      <td>Leicester</td>\n",
       "      <td>5</td>\n",
       "      <td>2.58</td>\n",
       "      <td>2.17</td>\n",
       "    </tr>\n",
       "    <tr>\n",
       "      <th>10</th>\n",
       "      <td>Leeds</td>\n",
       "      <td>6</td>\n",
       "      <td>3.24</td>\n",
       "      <td>3.06</td>\n",
       "    </tr>\n",
       "    <tr>\n",
       "      <th>11</th>\n",
       "      <td>Liverpool</td>\n",
       "      <td>5</td>\n",
       "      <td>2.80</td>\n",
       "      <td>2.82</td>\n",
       "    </tr>\n",
       "    <tr>\n",
       "      <th>12</th>\n",
       "      <td>Man City</td>\n",
       "      <td>6</td>\n",
       "      <td>3.15</td>\n",
       "      <td>2.68</td>\n",
       "    </tr>\n",
       "    <tr>\n",
       "      <th>13</th>\n",
       "      <td>Man Utd</td>\n",
       "      <td>7</td>\n",
       "      <td>3.63</td>\n",
       "      <td>3.70</td>\n",
       "    </tr>\n",
       "    <tr>\n",
       "      <th>14</th>\n",
       "      <td>Newcastle</td>\n",
       "      <td>6</td>\n",
       "      <td>3.01</td>\n",
       "      <td>3.17</td>\n",
       "    </tr>\n",
       "    <tr>\n",
       "      <th>15</th>\n",
       "      <td>Norwich</td>\n",
       "      <td>6</td>\n",
       "      <td>2.85</td>\n",
       "      <td>2.94</td>\n",
       "    </tr>\n",
       "    <tr>\n",
       "      <th>16</th>\n",
       "      <td>Southampton</td>\n",
       "      <td>6</td>\n",
       "      <td>3.00</td>\n",
       "      <td>3.00</td>\n",
       "    </tr>\n",
       "    <tr>\n",
       "      <th>17</th>\n",
       "      <td>Spurs</td>\n",
       "      <td>7</td>\n",
       "      <td>3.03</td>\n",
       "      <td>3.44</td>\n",
       "    </tr>\n",
       "    <tr>\n",
       "      <th>18</th>\n",
       "      <td>Watford</td>\n",
       "      <td>7</td>\n",
       "      <td>3.91</td>\n",
       "      <td>3.68</td>\n",
       "    </tr>\n",
       "    <tr>\n",
       "      <th>19</th>\n",
       "      <td>West Ham</td>\n",
       "      <td>6</td>\n",
       "      <td>3.40</td>\n",
       "      <td>3.64</td>\n",
       "    </tr>\n",
       "    <tr>\n",
       "      <th>20</th>\n",
       "      <td>Wolves</td>\n",
       "      <td>6</td>\n",
       "      <td>2.76</td>\n",
       "      <td>3.10</td>\n",
       "    </tr>\n",
       "  </tbody>\n",
       "</table>\n",
       "</div>"
      ],
      "text/plain": [
       "              team_name num_fixtures  opposition_aggregate_attack_strength  \\\n",
       "team_id                                                                      \n",
       "1               Arsenal            4                                  2.60   \n",
       "2           Aston Villa            6                                  3.18   \n",
       "3             Brentford            7                                  3.25   \n",
       "4              Brighton            6                                  3.42   \n",
       "5               Burnley            6                                  2.42   \n",
       "6               Chelsea            4                                  1.83   \n",
       "7        Crystal Palace            6                                  2.86   \n",
       "8               Everton            6                                  3.28   \n",
       "9             Leicester            5                                  2.58   \n",
       "10                Leeds            6                                  3.24   \n",
       "11            Liverpool            5                                  2.80   \n",
       "12             Man City            6                                  3.15   \n",
       "13              Man Utd            7                                  3.63   \n",
       "14            Newcastle            6                                  3.01   \n",
       "15              Norwich            6                                  2.85   \n",
       "16          Southampton            6                                  3.00   \n",
       "17                Spurs            7                                  3.03   \n",
       "18              Watford            7                                  3.91   \n",
       "19             West Ham            6                                  3.40   \n",
       "20               Wolves            6                                  2.76   \n",
       "\n",
       "         opposition_aggregate_defense_strength  \n",
       "team_id                                         \n",
       "1                                         2.35  \n",
       "2                                         3.62  \n",
       "3                                         3.22  \n",
       "4                                         3.61  \n",
       "5                                         2.85  \n",
       "6                                         1.59  \n",
       "7                                         2.89  \n",
       "8                                         3.18  \n",
       "9                                         2.17  \n",
       "10                                        3.06  \n",
       "11                                        2.82  \n",
       "12                                        2.68  \n",
       "13                                        3.70  \n",
       "14                                        3.17  \n",
       "15                                        2.94  \n",
       "16                                        3.00  \n",
       "17                                        3.44  \n",
       "18                                        3.68  \n",
       "19                                        3.64  \n",
       "20                                        3.10  "
      ]
     },
     "execution_count": 56,
     "metadata": {},
     "output_type": "execute_result"
    }
   ],
   "source": [
    "results"
   ]
  },
  {
   "cell_type": "markdown",
   "metadata": {},
   "source": [
    "Opposition defense strength - used for picking mids and fws"
   ]
  },
  {
   "cell_type": "code",
   "execution_count": 57,
   "metadata": {},
   "outputs": [],
   "source": [
    "\n",
    "# green yellow blue yellow orange"
   ]
  },
  {
   "cell_type": "code",
   "execution_count": 58,
   "metadata": {
    "scrolled": false
   },
   "outputs": [
    {
     "data": {
      "image/png": "[encoded data removed]",
      "text/plain": [
       "<Figure size 720x432 with 1 Axes>"
      ]
     },
     "metadata": {
      "needs_background": "light"
     },
     "output_type": "display_data"
    }
   ],
   "source": [
    "plot_results_as_bar_chart_with_clustering(results, \"opposition_aggregate_defense_strength\")\n"
   ]
  },
  {
   "cell_type": "markdown",
   "metadata": {},
   "source": [
    "Opposition attack strength - used for picking dfs and gks"
   ]
  },
  {
   "cell_type": "code",
   "execution_count": 59,
   "metadata": {
    "scrolled": false
   },
   "outputs": [
    {
     "data": {
      "image/png": "[encoded data removed]",
      "text/plain": [
       "<Figure size 720x432 with 1 Axes>"
      ]
     },
     "metadata": {
      "needs_background": "light"
     },
     "output_type": "display_data"
    }
   ],
   "source": [
    "plot_results_as_bar_chart_with_clustering(results, \"opposition_aggregate_attack_strength\")\n"
   ]
  },
  {
   "cell_type": "markdown",
   "metadata": {},
   "source": [
    "Data deeper dive"
   ]
  },
  {
   "cell_type": "code",
   "execution_count": 60,
   "metadata": {
    "scrolled": true
   },
   "outputs": [
    {
     "name": "stdout",
     "output_type": "stream",
     "text": [
      "Fixtures for Brentford:\n",
      "away against Liverpool\n",
      "\n",
      "home against Man Utd\n",
      "\n",
      "home against Wolves\n",
      "\n",
      "away against Man City\n",
      "\n",
      "home against Crystal Palace\n",
      "\n",
      "away against Arsenal\n",
      "\n",
      "home against Newcastle\n",
      "\n"
     ]
    }
   ],
   "source": [
    "inspect_fixtures_for_team(3, gw_fixtures, club_metadata)"
   ]
  },
  {
   "cell_type": "code",
   "execution_count": 54,
   "metadata": {},
   "outputs": [
    {
     "data": {
      "text/html": [
       "<div>\n",
       "<style scoped>\n",
       "    .dataframe tbody tr th:only-of-type {\n",
       "        vertical-align: middle;\n",
       "    }\n",
       "\n",
       "    .dataframe tbody tr th {\n",
       "        vertical-align: top;\n",
       "    }\n",
       "\n",
       "    .dataframe thead th {\n",
       "        text-align: right;\n",
       "    }\n",
       "</style>\n",
       "<table border=\"1\" class=\"dataframe\">\n",
       "  <thead>\n",
       "    <tr style=\"text-align: right;\">\n",
       "      <th></th>\n",
       "      <th>team_name</th>\n",
       "      <th>attack_home</th>\n",
       "      <th>defense_home</th>\n",
       "      <th>attack_away</th>\n",
       "      <th>defense_away</th>\n",
       "    </tr>\n",
       "  </thead>\n",
       "  <tbody>\n",
       "    <tr>\n",
       "      <th>14</th>\n",
       "      <td>Norwich</td>\n",
       "      <td>0.71</td>\n",
       "      <td>0.78</td>\n",
       "      <td>0.65</td>\n",
       "      <td>0.56</td>\n",
       "    </tr>\n",
       "    <tr>\n",
       "      <th>19</th>\n",
       "      <td>Wolves</td>\n",
       "      <td>0.63</td>\n",
       "      <td>0.50</td>\n",
       "      <td>0.64</td>\n",
       "      <td>0.45</td>\n",
       "    </tr>\n",
       "    <tr>\n",
       "      <th>17</th>\n",
       "      <td>Watford</td>\n",
       "      <td>0.53</td>\n",
       "      <td>0.66</td>\n",
       "      <td>0.64</td>\n",
       "      <td>0.80</td>\n",
       "    </tr>\n",
       "    <tr>\n",
       "      <th>1</th>\n",
       "      <td>Aston Villa</td>\n",
       "      <td>0.60</td>\n",
       "      <td>0.55</td>\n",
       "      <td>0.63</td>\n",
       "      <td>0.51</td>\n",
       "    </tr>\n",
       "    <tr>\n",
       "      <th>13</th>\n",
       "      <td>Newcastle</td>\n",
       "      <td>0.76</td>\n",
       "      <td>0.67</td>\n",
       "      <td>0.60</td>\n",
       "      <td>0.67</td>\n",
       "    </tr>\n",
       "    <tr>\n",
       "      <th>15</th>\n",
       "      <td>Southampton</td>\n",
       "      <td>0.56</td>\n",
       "      <td>0.63</td>\n",
       "      <td>0.53</td>\n",
       "      <td>0.40</td>\n",
       "    </tr>\n",
       "    <tr>\n",
       "      <th>4</th>\n",
       "      <td>Burnley</td>\n",
       "      <td>0.70</td>\n",
       "      <td>0.69</td>\n",
       "      <td>0.51</td>\n",
       "      <td>0.42</td>\n",
       "    </tr>\n",
       "    <tr>\n",
       "      <th>2</th>\n",
       "      <td>Brentford</td>\n",
       "      <td>0.62</td>\n",
       "      <td>0.50</td>\n",
       "      <td>0.50</td>\n",
       "      <td>0.41</td>\n",
       "    </tr>\n",
       "    <tr>\n",
       "      <th>3</th>\n",
       "      <td>Brighton</td>\n",
       "      <td>0.65</td>\n",
       "      <td>0.44</td>\n",
       "      <td>0.47</td>\n",
       "      <td>0.44</td>\n",
       "    </tr>\n",
       "    <tr>\n",
       "      <th>7</th>\n",
       "      <td>Everton</td>\n",
       "      <td>0.59</td>\n",
       "      <td>0.60</td>\n",
       "      <td>0.45</td>\n",
       "      <td>0.52</td>\n",
       "    </tr>\n",
       "    <tr>\n",
       "      <th>12</th>\n",
       "      <td>Man Utd</td>\n",
       "      <td>0.50</td>\n",
       "      <td>0.61</td>\n",
       "      <td>0.43</td>\n",
       "      <td>0.46</td>\n",
       "    </tr>\n",
       "    <tr>\n",
       "      <th>9</th>\n",
       "      <td>Leicester</td>\n",
       "      <td>0.43</td>\n",
       "      <td>0.66</td>\n",
       "      <td>0.42</td>\n",
       "      <td>0.63</td>\n",
       "    </tr>\n",
       "    <tr>\n",
       "      <th>8</th>\n",
       "      <td>Leeds</td>\n",
       "      <td>0.63</td>\n",
       "      <td>0.72</td>\n",
       "      <td>0.41</td>\n",
       "      <td>0.55</td>\n",
       "    </tr>\n",
       "    <tr>\n",
       "      <th>6</th>\n",
       "      <td>Crystal Palace</td>\n",
       "      <td>0.68</td>\n",
       "      <td>0.59</td>\n",
       "      <td>0.39</td>\n",
       "      <td>0.32</td>\n",
       "    </tr>\n",
       "    <tr>\n",
       "      <th>18</th>\n",
       "      <td>West Ham</td>\n",
       "      <td>0.49</td>\n",
       "      <td>0.52</td>\n",
       "      <td>0.38</td>\n",
       "      <td>0.40</td>\n",
       "    </tr>\n",
       "    <tr>\n",
       "      <th>0</th>\n",
       "      <td>Arsenal</td>\n",
       "      <td>0.53</td>\n",
       "      <td>0.57</td>\n",
       "      <td>0.37</td>\n",
       "      <td>0.38</td>\n",
       "    </tr>\n",
       "    <tr>\n",
       "      <th>16</th>\n",
       "      <td>Spurs</td>\n",
       "      <td>0.52</td>\n",
       "      <td>0.35</td>\n",
       "      <td>0.36</td>\n",
       "      <td>0.43</td>\n",
       "    </tr>\n",
       "    <tr>\n",
       "      <th>5</th>\n",
       "      <td>Chelsea</td>\n",
       "      <td>0.38</td>\n",
       "      <td>0.35</td>\n",
       "      <td>0.31</td>\n",
       "      <td>0.36</td>\n",
       "    </tr>\n",
       "    <tr>\n",
       "      <th>11</th>\n",
       "      <td>Man City</td>\n",
       "      <td>0.27</td>\n",
       "      <td>0.28</td>\n",
       "      <td>0.17</td>\n",
       "      <td>0.20</td>\n",
       "    </tr>\n",
       "    <tr>\n",
       "      <th>10</th>\n",
       "      <td>Liverpool</td>\n",
       "      <td>0.16</td>\n",
       "      <td>0.44</td>\n",
       "      <td>0.14</td>\n",
       "      <td>0.27</td>\n",
       "    </tr>\n",
       "  </tbody>\n",
       "</table>\n",
       "</div>"
      ],
      "text/plain": [
       "         team_name  attack_home  defense_home  attack_away  defense_away\n",
       "14         Norwich         0.71          0.78         0.65          0.56\n",
       "19          Wolves         0.63          0.50         0.64          0.45\n",
       "17         Watford         0.53          0.66         0.64          0.80\n",
       "1      Aston Villa         0.60          0.55         0.63          0.51\n",
       "13       Newcastle         0.76          0.67         0.60          0.67\n",
       "15     Southampton         0.56          0.63         0.53          0.40\n",
       "4          Burnley         0.70          0.69         0.51          0.42\n",
       "2        Brentford         0.62          0.50         0.50          0.41\n",
       "3         Brighton         0.65          0.44         0.47          0.44\n",
       "7          Everton         0.59          0.60         0.45          0.52\n",
       "12         Man Utd         0.50          0.61         0.43          0.46\n",
       "9        Leicester         0.43          0.66         0.42          0.63\n",
       "8            Leeds         0.63          0.72         0.41          0.55\n",
       "6   Crystal Palace         0.68          0.59         0.39          0.32\n",
       "18        West Ham         0.49          0.52         0.38          0.40\n",
       "0          Arsenal         0.53          0.57         0.37          0.38\n",
       "16           Spurs         0.52          0.35         0.36          0.43\n",
       "5          Chelsea         0.38          0.35         0.31          0.36\n",
       "11        Man City         0.27          0.28         0.17          0.20\n",
       "10       Liverpool         0.16          0.44         0.14          0.27"
      ]
     },
     "execution_count": 54,
     "metadata": {},
     "output_type": "execute_result"
    }
   ],
   "source": [
    "team_strength_to_df(fetch_xg_based_team_strength(), club_metadata).sort_values(\"attack_away\", ascending=False)"
   ]
  },
  {
   "cell_type": "markdown",
   "metadata": {},
   "source": [
    "## Plot rolling difficulty for a given side"
   ]
  },
  {
   "cell_type": "code",
   "execution_count": 495,
   "metadata": {},
   "outputs": [],
   "source": [
    "gw_fixtures = fetch_fixtures_for_gws_considered(raw_gw_fixtures, starting_gw, 38)\n",
    "# team_strength = fetch_fpl_based_team_strength(club_metadata)\n",
    "team_strength = fetch_xg_based_team_strength()\n",
    "max_team_strength = max(list(map(max_from_team_strength, list(team_strength.items()))))\n",
    "gw_fixture_difficulty = map_fixture_difficulty(gw_fixtures, team_strength)\n",
    "\n"
   ]
  },
  {
   "cell_type": "code",
   "execution_count": 499,
   "metadata": {},
   "outputs": [
    {
     "data": {
      "image/png": "[encoded data removed]",
      "text/plain": [
       "<Figure size 1000x600 with 1 Axes>"
      ]
     },
     "metadata": {},
     "output_type": "display_data"
    }
   ],
   "source": [
    "team_id_considered = 11\n",
    "gw_fixture_difficulty_considered = gw_fixture_difficulty[team_id_considered]\n",
    "opposition_attack_strength = pd.Series(map(lambda item: item[0], gw_fixture_difficulty_considered)).rolling(gws_to_roll).mean().dropna()\n",
    "opposition_defense_strength = pd.Series(map(lambda item: item[1], gw_fixture_difficulty_considered)).rolling(gws_to_roll).mean().dropna()\n",
    "x = [i for i in range(starting_gw, starting_gw + len(opposition_attack_strength))]\n",
    "plt.plot(x, opposition_attack_strength, label=\"opposition_attack_strength\")\n",
    "plt.plot(x, opposition_defense_strength, label=\"opposition_defense_strength\")\n",
    "plt.title(\"{} fixture difficulty\".format(convert_id_to_team_name(team_id_considered, club_metadata)))\n",
    "plt.legend()\n",
    "plt.show()\n"
   ]
  },
  {
   "cell_type": "code",
   "execution_count": null,
   "metadata": {},
   "outputs": [],
   "source": []
  },
  {
   "cell_type": "code",
   "execution_count": null,
   "metadata": {},
   "outputs": [],
   "source": []
  }
 ],
 "metadata": {
  "kernelspec": {
   "display_name": "Python 3 (ipykernel)",
   "language": "python",
   "name": "python3"
  },
  "language_info": {
   "codemirror_mode": {
    "name": "ipython",
    "version": 3
   },
   "file_extension": ".py",
   "mimetype": "text/x-python",
   "name": "python",
   "nbconvert_exporter": "python",
   "pygments_lexer": "ipython3",
   "version": "3.9.7"
  }
 },
 "nbformat": 4,
 "nbformat_minor": 4
}
